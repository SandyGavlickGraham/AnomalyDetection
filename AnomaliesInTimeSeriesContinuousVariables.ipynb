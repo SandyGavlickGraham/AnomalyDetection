{
 "cells": [
  {
   "cell_type": "markdown",
   "metadata": {},
   "source": [
    "Objective: Detect anomalies in the amount of data consumed over time by users accessing the Codeup curriculum pages. We want to know asap if it appears traffic to our site increases at an unexpected rate, as this could signify a security breach."
   ]
  },
  {
   "cell_type": "markdown",
   "metadata": {},
   "source": [
    "# Prepare Environment"
   ]
  },
  {
   "cell_type": "code",
   "execution_count": 1,
   "metadata": {},
   "outputs": [],
   "source": [
    "import numpy as np\n",
    "import pandas as pd\n",
    "import math\n",
    "from sklearn import metrics\n",
    "\n",
    "from scipy.stats import entropy\n",
    "\n",
    "import warnings\n",
    "warnings.filterwarnings(\"ignore\")\n",
    "import matplotlib.pyplot as plt\n",
    "# To format dates on our plots:\n",
    "import matplotlib.dates as mdates\n",
    "%matplotlib inline\n",
    "import seaborn as sns"
   ]
  },
  {
   "cell_type": "markdown",
   "metadata": {},
   "source": [
    "## User defined function to evaluate the models."
   ]
  },
  {
   "cell_type": "code",
   "execution_count": 2,
   "metadata": {},
   "outputs": [],
   "source": [
    "def evaluate(actual, predictions, output=True):\n",
    "    mse = metrics.mean_squared_error(actual, predictions)\n",
    "    rmse = math.sqrt(mse)\n",
    "\n",
    "    if output:\n",
    "        print('MSE:  {}'.format(mse))\n",
    "        print('RMSE: {}'.format(rmse))\n",
    "    else:\n",
    "        return mse, rmse    "
   ]
  },
  {
   "cell_type": "markdown",
   "metadata": {},
   "source": [
    "## User defined function to plot the models."
   ]
  },
  {
   "cell_type": "code",
   "execution_count": 3,
   "metadata": {},
   "outputs": [],
   "source": [
    "def plot_and_eval(predictions, actual, metric_fmt='{:.2f}', linewidth=4):\n",
    "    if type(predictions) is not list:\n",
    "        predictions = [predictions]\n",
    "\n",
    "    plt.figure(figsize=(16, 8))\n",
    "    plt.plot(train,label='Train')\n",
    "    plt.plot(test, label='Test')\n",
    "\n",
    "    for yhat in predictions:\n",
    "        mse, rmse = evaluate(actual, yhat, output=False)        \n",
    "        label = f'{yhat.name}'\n",
    "        if len(predictions) > 1:\n",
    "            label = f'{label} -- MSE: {metric_fmt} RMSE: {metric_fmt}'.format(mse, rmse)\n",
    "        plt.plot(yhat, label=label, linewidth=linewidth)\n",
    "\n",
    "    if len(predictions) == 1:\n",
    "        label = f'{label} -- MSE: {metric_fmt} RMSE: {metric_fmt}'.format(mse, rmse)\n",
    "        plt.title(label)\n",
    "\n",
    "    plt.legend(loc='best')\n",
    "    plt.show()    "
   ]
  },
  {
   "cell_type": "markdown",
   "metadata": {},
   "source": [
    "# Wrangel Data\n",
    "## Acquire"
   ]
  },
  {
   "cell_type": "markdown",
   "metadata": {},
   "source": [
    "#### Label each field from the curriculum log."
   ]
  },
  {
   "cell_type": "code",
   "execution_count": 4,
   "metadata": {},
   "outputs": [],
   "source": [
    "colnames=['ip', 'timestamp', 'request_method', 'status', 'size',\n",
    "          'destination', 'request_agent']\n",
    "df_orig = pd.read_csv('http://python.zach.lol/access.log',          \n",
    "                 engine='python',\n",
    "                 header=None,\n",
    "                 index_col=False,\n",
    "                 names=colnames,\n",
    "                 sep=r'\\s(?=(?:[^\"]*\"[^\"]*\")*[^\"]*$)(?![^\\[]*\\])',\n",
    "                 na_values='\"-\"',\n",
    "                 usecols=[0, 3, 4, 5, 6, 7, 8]\n",
    ")"
   ]
  },
  {
   "cell_type": "markdown",
   "metadata": {},
   "source": [
    "#### Fabricate some anomalous observations for demonstration purposes."
   ]
  },
  {
   "cell_type": "code",
   "execution_count": 5,
   "metadata": {},
   "outputs": [
    {
     "data": {
      "text/html": [
       "<div>\n",
       "<style scoped>\n",
       "    .dataframe tbody tr th:only-of-type {\n",
       "        vertical-align: middle;\n",
       "    }\n",
       "\n",
       "    .dataframe tbody tr th {\n",
       "        vertical-align: top;\n",
       "    }\n",
       "\n",
       "    .dataframe thead th {\n",
       "        text-align: right;\n",
       "    }\n",
       "</style>\n",
       "<table border=\"1\" class=\"dataframe\">\n",
       "  <thead>\n",
       "    <tr style=\"text-align: right;\">\n",
       "      <th></th>\n",
       "      <th>ip</th>\n",
       "      <th>timestamp</th>\n",
       "      <th>request_method</th>\n",
       "      <th>status</th>\n",
       "      <th>size</th>\n",
       "      <th>destination</th>\n",
       "      <th>request_agent</th>\n",
       "    </tr>\n",
       "  </thead>\n",
       "  <tbody>\n",
       "    <tr>\n",
       "      <th>0</th>\n",
       "      <td>97.105.19.58</td>\n",
       "      <td>[16/Apr/2019:19:34:42 +0000]</td>\n",
       "      <td>\"GET /api/v1/sales?page=81 HTTP/1.1\"</td>\n",
       "      <td>200</td>\n",
       "      <td>512495</td>\n",
       "      <td>NaN</td>\n",
       "      <td>\"python-requests/2.21.0\"</td>\n",
       "    </tr>\n",
       "    <tr>\n",
       "      <th>1</th>\n",
       "      <td>97.105.19.58</td>\n",
       "      <td>[16/Apr/2019:19:34:42 +0000]</td>\n",
       "      <td>\"GET /api/v1/items HTTP/1.1\"</td>\n",
       "      <td>200</td>\n",
       "      <td>3561</td>\n",
       "      <td>NaN</td>\n",
       "      <td>\"python-requests/2.21.0\"</td>\n",
       "    </tr>\n",
       "    <tr>\n",
       "      <th>2</th>\n",
       "      <td>97.105.19.58</td>\n",
       "      <td>[16/Apr/2019:19:34:44 +0000]</td>\n",
       "      <td>\"GET /api/v1/sales?page=82 HTTP/1.1\"</td>\n",
       "      <td>200</td>\n",
       "      <td>510103</td>\n",
       "      <td>NaN</td>\n",
       "      <td>\"python-requests/2.21.0\"</td>\n",
       "    </tr>\n",
       "    <tr>\n",
       "      <th>3</th>\n",
       "      <td>97.105.19.58</td>\n",
       "      <td>[16/Apr/2019:19:34:46 +0000]</td>\n",
       "      <td>\"GET /api/v1/sales?page=83 HTTP/1.1\"</td>\n",
       "      <td>200</td>\n",
       "      <td>510003</td>\n",
       "      <td>NaN</td>\n",
       "      <td>\"python-requests/2.21.0\"</td>\n",
       "    </tr>\n",
       "    <tr>\n",
       "      <th>4</th>\n",
       "      <td>97.105.19.58</td>\n",
       "      <td>[16/Apr/2019:19:34:48 +0000]</td>\n",
       "      <td>\"GET /api/v1/sales?page=84 HTTP/1.1\"</td>\n",
       "      <td>200</td>\n",
       "      <td>511963</td>\n",
       "      <td>NaN</td>\n",
       "      <td>\"python-requests/2.21.0\"</td>\n",
       "    </tr>\n",
       "  </tbody>\n",
       "</table>\n",
       "</div>"
      ],
      "text/plain": [
       "             ip                     timestamp  \\\n",
       "0  97.105.19.58  [16/Apr/2019:19:34:42 +0000]   \n",
       "1  97.105.19.58  [16/Apr/2019:19:34:42 +0000]   \n",
       "2  97.105.19.58  [16/Apr/2019:19:34:44 +0000]   \n",
       "3  97.105.19.58  [16/Apr/2019:19:34:46 +0000]   \n",
       "4  97.105.19.58  [16/Apr/2019:19:34:48 +0000]   \n",
       "\n",
       "                         request_method  status    size destination  \\\n",
       "0  \"GET /api/v1/sales?page=81 HTTP/1.1\"     200  512495         NaN   \n",
       "1          \"GET /api/v1/items HTTP/1.1\"     200    3561         NaN   \n",
       "2  \"GET /api/v1/sales?page=82 HTTP/1.1\"     200  510103         NaN   \n",
       "3  \"GET /api/v1/sales?page=83 HTTP/1.1\"     200  510003         NaN   \n",
       "4  \"GET /api/v1/sales?page=84 HTTP/1.1\"     200  511963         NaN   \n",
       "\n",
       "              request_agent  \n",
       "0  \"python-requests/2.21.0\"  \n",
       "1  \"python-requests/2.21.0\"  \n",
       "2  \"python-requests/2.21.0\"  \n",
       "3  \"python-requests/2.21.0\"  \n",
       "4  \"python-requests/2.21.0\"  "
      ]
     },
     "execution_count": 5,
     "metadata": {},
     "output_type": "execute_result"
    }
   ],
   "source": [
    "new = pd.DataFrame([[\"95.31.18.119\", \"[21/Apr/2019:10:02:41+0000]\", \n",
    "                     \"GET /api/v1/items/HTTP/1.1\", 200, 1153005, np.nan, \n",
    "                     \"python-requests/2.21.0\"],\n",
    "                    [\"95.31.16.121\", \"[17/Apr/2019:19:36:41+0000]\", \n",
    "                     \"GET /api/v1/sales?page=79/HTTP/1.1\", 301, 1005, np.nan, \n",
    "                     \"python-requests/2.21.0\"],\n",
    "                    [\"97.105.15.120\", \"[18/Apr/2019:19:42:41+0000]\", \n",
    "                     \"GET /api/v1/sales?page=79/HTTP/1.1\", 301, 2560, np.nan, \n",
    "                     \"python-requests/2.21.0\"],\n",
    "                    [\"97.105.19.58\", \"[19/Apr/2019:19:42:41+0000]\", \n",
    "                     \"GET /api/v1/sales?page=79/HTTP/1.1\", 200, 2056327, np.nan, \n",
    "                     \"python-requests/2.21.0\"]], columns=colnames)\n",
    "\n",
    "df = df_orig.append(new)\n",
    "df.head()"
   ]
  },
  {
   "cell_type": "markdown",
   "metadata": {},
   "source": [
    "#### Changes needed in data:\n",
    "\n",
    "- timestamp: Remove square brackets, replace the first colon (after dd/MM/yyyy) with a space so we can then convert to datetime dtype, convert to datetime, set as index.\n",
    "- request_method: Remove quotation marks and '?page=x', we may want to split request_method so the we have another columns with the request type (GET, PUT, ...). We'll wait and see if we want to use it.\n",
    "- request_agent: Remove quotation marks.\n",
    "- size: Convert to MB, purely to put the values in smaller number and units we are more accustomed to seeing."
   ]
  },
  {
   "cell_type": "code",
   "execution_count": 6,
   "metadata": {},
   "outputs": [
    {
     "name": "stdout",
     "output_type": "stream",
     "text": [
      "<class 'pandas.core.frame.DataFrame'>\n",
      "Int64Index: 13978 entries, 0 to 3\n",
      "Data columns (total 7 columns):\n",
      "ip                13978 non-null object\n",
      "timestamp         13978 non-null object\n",
      "request_method    13978 non-null object\n",
      "status            13978 non-null int64\n",
      "size              13978 non-null int64\n",
      "destination       25 non-null object\n",
      "request_agent     13978 non-null object\n",
      "dtypes: int64(2), object(5)\n",
      "memory usage: 873.6+ KB\n"
     ]
    }
   ],
   "source": [
    "df.info()"
   ]
  },
  {
   "cell_type": "markdown",
   "metadata": {},
   "source": [
    "#### Takeaways:\n",
    "\n",
    "- The fact that destination is mostly null with a few non-nulls gives alert to possible anomalies.\n",
    "- Convert timestamp to datetime.\n",
    "- Once we remove destination, there will be no remaining missing values.\n",
    "\n",
    "## Prep Data\n",
    "#### Timestamp\n",
    "- Remove square brackets.\n",
    "- Replace the first colon (after dd/MM/yyyy) with a space so we can then convert to datetime dtype.\n",
    "- Convert to datetime."
   ]
  },
  {
   "cell_type": "code",
   "execution_count": 7,
   "metadata": {},
   "outputs": [
    {
     "data": {
      "text/html": [
       "<div>\n",
       "<style scoped>\n",
       "    .dataframe tbody tr th:only-of-type {\n",
       "        vertical-align: middle;\n",
       "    }\n",
       "\n",
       "    .dataframe tbody tr th {\n",
       "        vertical-align: top;\n",
       "    }\n",
       "\n",
       "    .dataframe thead th {\n",
       "        text-align: right;\n",
       "    }\n",
       "</style>\n",
       "<table border=\"1\" class=\"dataframe\">\n",
       "  <thead>\n",
       "    <tr style=\"text-align: right;\">\n",
       "      <th></th>\n",
       "      <th>ip</th>\n",
       "      <th>request_method</th>\n",
       "      <th>status</th>\n",
       "      <th>size</th>\n",
       "      <th>destination</th>\n",
       "      <th>request_agent</th>\n",
       "    </tr>\n",
       "    <tr>\n",
       "      <th>timestamp</th>\n",
       "      <th></th>\n",
       "      <th></th>\n",
       "      <th></th>\n",
       "      <th></th>\n",
       "      <th></th>\n",
       "      <th></th>\n",
       "    </tr>\n",
       "  </thead>\n",
       "  <tbody>\n",
       "    <tr>\n",
       "      <th>2019-04-16 19:34:42+00:00</th>\n",
       "      <td>97.105.19.58</td>\n",
       "      <td>\"GET /api/v1/sales?page=81 HTTP/1.1\"</td>\n",
       "      <td>200</td>\n",
       "      <td>512495</td>\n",
       "      <td>NaN</td>\n",
       "      <td>\"python-requests/2.21.0\"</td>\n",
       "    </tr>\n",
       "    <tr>\n",
       "      <th>2019-04-16 19:34:42+00:00</th>\n",
       "      <td>97.105.19.58</td>\n",
       "      <td>\"GET /api/v1/items HTTP/1.1\"</td>\n",
       "      <td>200</td>\n",
       "      <td>3561</td>\n",
       "      <td>NaN</td>\n",
       "      <td>\"python-requests/2.21.0\"</td>\n",
       "    </tr>\n",
       "    <tr>\n",
       "      <th>2019-04-16 19:34:44+00:00</th>\n",
       "      <td>97.105.19.58</td>\n",
       "      <td>\"GET /api/v1/sales?page=82 HTTP/1.1\"</td>\n",
       "      <td>200</td>\n",
       "      <td>510103</td>\n",
       "      <td>NaN</td>\n",
       "      <td>\"python-requests/2.21.0\"</td>\n",
       "    </tr>\n",
       "    <tr>\n",
       "      <th>2019-04-16 19:34:46+00:00</th>\n",
       "      <td>97.105.19.58</td>\n",
       "      <td>\"GET /api/v1/sales?page=83 HTTP/1.1\"</td>\n",
       "      <td>200</td>\n",
       "      <td>510003</td>\n",
       "      <td>NaN</td>\n",
       "      <td>\"python-requests/2.21.0\"</td>\n",
       "    </tr>\n",
       "    <tr>\n",
       "      <th>2019-04-16 19:34:48+00:00</th>\n",
       "      <td>97.105.19.58</td>\n",
       "      <td>\"GET /api/v1/sales?page=84 HTTP/1.1\"</td>\n",
       "      <td>200</td>\n",
       "      <td>511963</td>\n",
       "      <td>NaN</td>\n",
       "      <td>\"python-requests/2.21.0\"</td>\n",
       "    </tr>\n",
       "  </tbody>\n",
       "</table>\n",
       "</div>"
      ],
      "text/plain": [
       "                                     ip                        request_method  \\\n",
       "timestamp                                                                       \n",
       "2019-04-16 19:34:42+00:00  97.105.19.58  \"GET /api/v1/sales?page=81 HTTP/1.1\"   \n",
       "2019-04-16 19:34:42+00:00  97.105.19.58          \"GET /api/v1/items HTTP/1.1\"   \n",
       "2019-04-16 19:34:44+00:00  97.105.19.58  \"GET /api/v1/sales?page=82 HTTP/1.1\"   \n",
       "2019-04-16 19:34:46+00:00  97.105.19.58  \"GET /api/v1/sales?page=83 HTTP/1.1\"   \n",
       "2019-04-16 19:34:48+00:00  97.105.19.58  \"GET /api/v1/sales?page=84 HTTP/1.1\"   \n",
       "\n",
       "                           status    size destination  \\\n",
       "timestamp                                               \n",
       "2019-04-16 19:34:42+00:00     200  512495         NaN   \n",
       "2019-04-16 19:34:42+00:00     200    3561         NaN   \n",
       "2019-04-16 19:34:44+00:00     200  510103         NaN   \n",
       "2019-04-16 19:34:46+00:00     200  510003         NaN   \n",
       "2019-04-16 19:34:48+00:00     200  511963         NaN   \n",
       "\n",
       "                                      request_agent  \n",
       "timestamp                                            \n",
       "2019-04-16 19:34:42+00:00  \"python-requests/2.21.0\"  \n",
       "2019-04-16 19:34:42+00:00  \"python-requests/2.21.0\"  \n",
       "2019-04-16 19:34:44+00:00  \"python-requests/2.21.0\"  \n",
       "2019-04-16 19:34:46+00:00  \"python-requests/2.21.0\"  \n",
       "2019-04-16 19:34:48+00:00  \"python-requests/2.21.0\"  "
      ]
     },
     "execution_count": 7,
     "metadata": {},
     "output_type": "execute_result"
    }
   ],
   "source": [
    "df.timestamp = df.timestamp.str.replace(r'(\\[|\\])', '', regex=True)\n",
    "df.timestamp= pd.to_datetime(df.timestamp.str.replace(':', ' ', 1)) \n",
    "df = df.set_index('timestamp')\n",
    "df.head()"
   ]
  },
  {
   "cell_type": "code",
   "execution_count": 8,
   "metadata": {},
   "outputs": [
    {
     "name": "stdout",
     "output_type": "stream",
     "text": [
      "<class 'pandas.core.frame.DataFrame'>\n",
      "DatetimeIndex: 13978 entries, 2019-04-16 19:34:42+00:00 to 2019-04-19 19:42:41+00:00\n",
      "Data columns (total 6 columns):\n",
      "ip                13978 non-null object\n",
      "request_method    13978 non-null object\n",
      "status            13978 non-null int64\n",
      "size              13978 non-null int64\n",
      "destination       25 non-null object\n",
      "request_agent     13978 non-null object\n",
      "dtypes: int64(2), object(4)\n",
      "memory usage: 764.4+ KB\n"
     ]
    }
   ],
   "source": [
    "df.info()"
   ]
  },
  {
   "cell_type": "markdown",
   "metadata": {},
   "source": [
    "#### Cleanup strings\n",
    "- Remove quotation marks and '?page=x' from request_method.\n",
    "- Remove quotation marks from request_agent."
   ]
  },
  {
   "cell_type": "code",
   "execution_count": 9,
   "metadata": {},
   "outputs": [
    {
     "data": {
      "text/plain": [
       "\"https://python.zach.lol/\"                                        4\n",
       "\"https://ds.codeup.com/8.3_Acquire/\"                              3\n",
       "\"https://python.zach.lol/api/v1/stores?page=1\"                    2\n",
       "\"https://python.zach.lol/api/v1/\"                                 2\n",
       "\"https://python.zach.lol/api/v1//api/v1/items?page=2\"             1\n",
       "\"https://python.zach.lol/api/v1/items\"                            1\n",
       "\"https://python.zach.lol/api/v1//api/v1/items\"                    1\n",
       "\"https://python.zach.lol/api/v1/I_DIDNT_DO_IT!!!!\"                1\n",
       "\"https://python.zach.lol/api/v1/sales?page=3\"                     1\n",
       "\"https://python.zach.lol/api/v1/stores?page=0\"                    1\n",
       "\"https://python.zach.lol/api/v1//api/v1/items/next_page\"          1\n",
       "\"https://python.zach.lol/api/V1/HiZach!\"                          1\n",
       "\"https://python.zach.lol/api/v1/stores?page=2\"                    1\n",
       "\"http://localhost:8888/notebooks/acquire.ipynb\"                   1\n",
       "\"http://localhost:8889/notebooks/timeseries_acquisition.ipynb\"    1\n",
       "\"https://python.zach.lol/api/v1/items?page=0\"                     1\n",
       "\"https://python.zach.lol/api/v1/helloclass!\"                      1\n",
       "\"https://python.zach.lol/api/v1/stores?page=999\"                  1\n",
       "Name: destination, dtype: int64"
      ]
     },
     "execution_count": 9,
     "metadata": {},
     "output_type": "execute_result"
    }
   ],
   "source": [
    "df.destination.value_counts()"
   ]
  },
  {
   "cell_type": "code",
   "execution_count": 10,
   "metadata": {},
   "outputs": [],
   "source": [
    "for col in ['request_method', 'request_agent', 'destination']:\n",
    "    df[col] = df[col].str.replace('\"', '')"
   ]
  },
  {
   "cell_type": "code",
   "execution_count": 11,
   "metadata": {},
   "outputs": [
    {
     "data": {
      "text/plain": [
       "220"
      ]
     },
     "execution_count": 11,
     "metadata": {},
     "output_type": "execute_result"
    }
   ],
   "source": [
    "# Count how many unique request methods there are before cleaning\n",
    "len(df.request_method.value_counts())"
   ]
  },
  {
   "cell_type": "code",
   "execution_count": 12,
   "metadata": {},
   "outputs": [
    {
     "data": {
      "text/plain": [
       "22"
      ]
     },
     "execution_count": 12,
     "metadata": {},
     "output_type": "execute_result"
    }
   ],
   "source": [
    "# Now clean the excess details out of the strings and recount.\n",
    "df['request_method'] = df.request_method.str.replace(r'\\?page=[0-9]+', '', regex = True)\n",
    "len(df.request_method.value_counts())"
   ]
  },
  {
   "cell_type": "markdown",
   "metadata": {},
   "source": [
    "Much better. We dropped from 220 to 22 request_method values.\n",
    "\n",
    "Let's see how many of each value there are."
   ]
  },
  {
   "cell_type": "code",
   "execution_count": 13,
   "metadata": {},
   "outputs": [
    {
     "data": {
      "text/plain": [
       "GET /api/v1/sales HTTP/1.1                      12403\n",
       "GET /api/v1/items HTTP/1.1                       1065\n",
       "GET /api/v1/stores HTTP/1.1                       229\n",
       "GET / HTTP/1.1                                    107\n",
       "GET /documentation HTTP/1.1                       100\n",
       "GET /favicon.ico HTTP/1.1                          26\n",
       "GET /api/v1//api/v1/items HTTP/1.1                 11\n",
       "GET /api/v1/items/api/v1/items HTTP/1.1             7\n",
       "GET /api/v1/items/next_page HTTP/1.1                5\n",
       "GET /api/v1/ HTTP/1.1                               4\n",
       "GET /api/v1/sales/ HTTP/1.1                         3\n",
       "GET /api/v1/store HTTP/1.1                          3\n",
       "GET /api/v1/sales/HTTP/1.1                          3\n",
       "GET /api/v1/itemsitems HTTP/1.1                     3\n",
       "GET /api/v1items HTTP/1.1                           2\n",
       "GET /api/v1/items/HTTP/1.1                          1\n",
       "GET /api/v1 HTTP/1.1                                1\n",
       "GET /api/v1/items&page=0 HTTP/1.1                   1\n",
       "GET /api/v1/I_DIDNT_DO_IT!!!! HTTP/1.1              1\n",
       "GET /api/V1/HiZach! HTTP/1.1                        1\n",
       "GET /api/v1//api/v1/items/next_page HTTP/1.1        1\n",
       "GET /api/v1/helloclass! HTTP/1.1                    1\n",
       "Name: request_method, dtype: int64"
      ]
     },
     "execution_count": 13,
     "metadata": {},
     "output_type": "execute_result"
    }
   ],
   "source": [
    "df.request_method.value_counts()"
   ]
  },
  {
   "cell_type": "code",
   "execution_count": 14,
   "metadata": {},
   "outputs": [
    {
     "data": {
      "text/html": [
       "<div>\n",
       "<style scoped>\n",
       "    .dataframe tbody tr th:only-of-type {\n",
       "        vertical-align: middle;\n",
       "    }\n",
       "\n",
       "    .dataframe tbody tr th {\n",
       "        vertical-align: top;\n",
       "    }\n",
       "\n",
       "    .dataframe thead th {\n",
       "        text-align: right;\n",
       "    }\n",
       "</style>\n",
       "<table border=\"1\" class=\"dataframe\">\n",
       "  <thead>\n",
       "    <tr style=\"text-align: right;\">\n",
       "      <th></th>\n",
       "      <th>ip</th>\n",
       "      <th>request_method</th>\n",
       "      <th>status</th>\n",
       "      <th>size</th>\n",
       "      <th>destination</th>\n",
       "      <th>request_agent</th>\n",
       "    </tr>\n",
       "    <tr>\n",
       "      <th>timestamp</th>\n",
       "      <th></th>\n",
       "      <th></th>\n",
       "      <th></th>\n",
       "      <th></th>\n",
       "      <th></th>\n",
       "      <th></th>\n",
       "    </tr>\n",
       "  </thead>\n",
       "  <tbody>\n",
       "    <tr>\n",
       "      <th>2019-04-16 19:34:42+00:00</th>\n",
       "      <td>97.105.19.58</td>\n",
       "      <td>GET /api/v1/sales HTTP/1.1</td>\n",
       "      <td>200</td>\n",
       "      <td>512495</td>\n",
       "      <td>NaN</td>\n",
       "      <td>python-requests/2.21.0</td>\n",
       "    </tr>\n",
       "    <tr>\n",
       "      <th>2019-04-16 19:34:42+00:00</th>\n",
       "      <td>97.105.19.58</td>\n",
       "      <td>GET /api/v1/items HTTP/1.1</td>\n",
       "      <td>200</td>\n",
       "      <td>3561</td>\n",
       "      <td>NaN</td>\n",
       "      <td>python-requests/2.21.0</td>\n",
       "    </tr>\n",
       "    <tr>\n",
       "      <th>2019-04-16 19:34:44+00:00</th>\n",
       "      <td>97.105.19.58</td>\n",
       "      <td>GET /api/v1/sales HTTP/1.1</td>\n",
       "      <td>200</td>\n",
       "      <td>510103</td>\n",
       "      <td>NaN</td>\n",
       "      <td>python-requests/2.21.0</td>\n",
       "    </tr>\n",
       "    <tr>\n",
       "      <th>2019-04-16 19:34:46+00:00</th>\n",
       "      <td>97.105.19.58</td>\n",
       "      <td>GET /api/v1/sales HTTP/1.1</td>\n",
       "      <td>200</td>\n",
       "      <td>510003</td>\n",
       "      <td>NaN</td>\n",
       "      <td>python-requests/2.21.0</td>\n",
       "    </tr>\n",
       "    <tr>\n",
       "      <th>2019-04-16 19:34:48+00:00</th>\n",
       "      <td>97.105.19.58</td>\n",
       "      <td>GET /api/v1/sales HTTP/1.1</td>\n",
       "      <td>200</td>\n",
       "      <td>511963</td>\n",
       "      <td>NaN</td>\n",
       "      <td>python-requests/2.21.0</td>\n",
       "    </tr>\n",
       "  </tbody>\n",
       "</table>\n",
       "</div>"
      ],
      "text/plain": [
       "                                     ip              request_method  status  \\\n",
       "timestamp                                                                     \n",
       "2019-04-16 19:34:42+00:00  97.105.19.58  GET /api/v1/sales HTTP/1.1     200   \n",
       "2019-04-16 19:34:42+00:00  97.105.19.58  GET /api/v1/items HTTP/1.1     200   \n",
       "2019-04-16 19:34:44+00:00  97.105.19.58  GET /api/v1/sales HTTP/1.1     200   \n",
       "2019-04-16 19:34:46+00:00  97.105.19.58  GET /api/v1/sales HTTP/1.1     200   \n",
       "2019-04-16 19:34:48+00:00  97.105.19.58  GET /api/v1/sales HTTP/1.1     200   \n",
       "\n",
       "                             size destination           request_agent  \n",
       "timestamp                                                              \n",
       "2019-04-16 19:34:42+00:00  512495         NaN  python-requests/2.21.0  \n",
       "2019-04-16 19:34:42+00:00    3561         NaN  python-requests/2.21.0  \n",
       "2019-04-16 19:34:44+00:00  510103         NaN  python-requests/2.21.0  \n",
       "2019-04-16 19:34:46+00:00  510003         NaN  python-requests/2.21.0  \n",
       "2019-04-16 19:34:48+00:00  511963         NaN  python-requests/2.21.0  "
      ]
     },
     "execution_count": 14,
     "metadata": {},
     "output_type": "execute_result"
    }
   ],
   "source": [
    "df.head()"
   ]
  },
  {
   "cell_type": "markdown",
   "metadata": {},
   "source": [
    "#### Use regex to extract each section of the request method into relevant new columns."
   ]
  },
  {
   "cell_type": "code",
   "execution_count": 15,
   "metadata": {},
   "outputs": [
    {
     "data": {
      "text/html": [
       "<div>\n",
       "<style scoped>\n",
       "    .dataframe tbody tr th:only-of-type {\n",
       "        vertical-align: middle;\n",
       "    }\n",
       "\n",
       "    .dataframe tbody tr th {\n",
       "        vertical-align: top;\n",
       "    }\n",
       "\n",
       "    .dataframe thead th {\n",
       "        text-align: right;\n",
       "    }\n",
       "</style>\n",
       "<table border=\"1\" class=\"dataframe\">\n",
       "  <thead>\n",
       "    <tr style=\"text-align: right;\">\n",
       "      <th></th>\n",
       "      <th>ip</th>\n",
       "      <th>request_method</th>\n",
       "      <th>status</th>\n",
       "      <th>size</th>\n",
       "      <th>destination</th>\n",
       "      <th>request_agent</th>\n",
       "      <th>request_call</th>\n",
       "      <th>api_version</th>\n",
       "      <th>endpoints</th>\n",
       "      <th>http</th>\n",
       "    </tr>\n",
       "    <tr>\n",
       "      <th>timestamp</th>\n",
       "      <th></th>\n",
       "      <th></th>\n",
       "      <th></th>\n",
       "      <th></th>\n",
       "      <th></th>\n",
       "      <th></th>\n",
       "      <th></th>\n",
       "      <th></th>\n",
       "      <th></th>\n",
       "      <th></th>\n",
       "    </tr>\n",
       "  </thead>\n",
       "  <tbody>\n",
       "    <tr>\n",
       "      <th>2019-04-16 19:34:42+00:00</th>\n",
       "      <td>97.105.19.58</td>\n",
       "      <td>GET /api/v1/sales HTTP/1.1</td>\n",
       "      <td>200</td>\n",
       "      <td>512495</td>\n",
       "      <td>NaN</td>\n",
       "      <td>python-requests/2.21.0</td>\n",
       "      <td>GET</td>\n",
       "      <td>/api/v1</td>\n",
       "      <td>/sales</td>\n",
       "      <td>HTTP/1.1</td>\n",
       "    </tr>\n",
       "    <tr>\n",
       "      <th>2019-04-16 19:34:42+00:00</th>\n",
       "      <td>97.105.19.58</td>\n",
       "      <td>GET /api/v1/items HTTP/1.1</td>\n",
       "      <td>200</td>\n",
       "      <td>3561</td>\n",
       "      <td>NaN</td>\n",
       "      <td>python-requests/2.21.0</td>\n",
       "      <td>GET</td>\n",
       "      <td>/api/v1</td>\n",
       "      <td>/items</td>\n",
       "      <td>HTTP/1.1</td>\n",
       "    </tr>\n",
       "    <tr>\n",
       "      <th>2019-04-16 19:34:44+00:00</th>\n",
       "      <td>97.105.19.58</td>\n",
       "      <td>GET /api/v1/sales HTTP/1.1</td>\n",
       "      <td>200</td>\n",
       "      <td>510103</td>\n",
       "      <td>NaN</td>\n",
       "      <td>python-requests/2.21.0</td>\n",
       "      <td>GET</td>\n",
       "      <td>/api/v1</td>\n",
       "      <td>/sales</td>\n",
       "      <td>HTTP/1.1</td>\n",
       "    </tr>\n",
       "    <tr>\n",
       "      <th>2019-04-16 19:34:46+00:00</th>\n",
       "      <td>97.105.19.58</td>\n",
       "      <td>GET /api/v1/sales HTTP/1.1</td>\n",
       "      <td>200</td>\n",
       "      <td>510003</td>\n",
       "      <td>NaN</td>\n",
       "      <td>python-requests/2.21.0</td>\n",
       "      <td>GET</td>\n",
       "      <td>/api/v1</td>\n",
       "      <td>/sales</td>\n",
       "      <td>HTTP/1.1</td>\n",
       "    </tr>\n",
       "    <tr>\n",
       "      <th>2019-04-16 19:34:48+00:00</th>\n",
       "      <td>97.105.19.58</td>\n",
       "      <td>GET /api/v1/sales HTTP/1.1</td>\n",
       "      <td>200</td>\n",
       "      <td>511963</td>\n",
       "      <td>NaN</td>\n",
       "      <td>python-requests/2.21.0</td>\n",
       "      <td>GET</td>\n",
       "      <td>/api/v1</td>\n",
       "      <td>/sales</td>\n",
       "      <td>HTTP/1.1</td>\n",
       "    </tr>\n",
       "  </tbody>\n",
       "</table>\n",
       "</div>"
      ],
      "text/plain": [
       "                                     ip              request_method  status  \\\n",
       "timestamp                                                                     \n",
       "2019-04-16 19:34:42+00:00  97.105.19.58  GET /api/v1/sales HTTP/1.1     200   \n",
       "2019-04-16 19:34:42+00:00  97.105.19.58  GET /api/v1/items HTTP/1.1     200   \n",
       "2019-04-16 19:34:44+00:00  97.105.19.58  GET /api/v1/sales HTTP/1.1     200   \n",
       "2019-04-16 19:34:46+00:00  97.105.19.58  GET /api/v1/sales HTTP/1.1     200   \n",
       "2019-04-16 19:34:48+00:00  97.105.19.58  GET /api/v1/sales HTTP/1.1     200   \n",
       "\n",
       "                             size destination           request_agent  \\\n",
       "timestamp                                                               \n",
       "2019-04-16 19:34:42+00:00  512495         NaN  python-requests/2.21.0   \n",
       "2019-04-16 19:34:42+00:00    3561         NaN  python-requests/2.21.0   \n",
       "2019-04-16 19:34:44+00:00  510103         NaN  python-requests/2.21.0   \n",
       "2019-04-16 19:34:46+00:00  510003         NaN  python-requests/2.21.0   \n",
       "2019-04-16 19:34:48+00:00  511963         NaN  python-requests/2.21.0   \n",
       "\n",
       "                          request_call api_version endpoints      http  \n",
       "timestamp                                                               \n",
       "2019-04-16 19:34:42+00:00          GET     /api/v1   /sales   HTTP/1.1  \n",
       "2019-04-16 19:34:42+00:00          GET     /api/v1   /items   HTTP/1.1  \n",
       "2019-04-16 19:34:44+00:00          GET     /api/v1   /sales   HTTP/1.1  \n",
       "2019-04-16 19:34:46+00:00          GET     /api/v1   /sales   HTTP/1.1  \n",
       "2019-04-16 19:34:48+00:00          GET     /api/v1   /sales   HTTP/1.1  "
      ]
     },
     "execution_count": 15,
     "metadata": {},
     "output_type": "execute_result"
    }
   ],
   "source": [
    "df[['request_call','api_version','endpoints','http']] = \\\n",
    "    df.request_method.str.extract(r'(?P<request_call>^[A-Z]+)\\s(?P<api_version>\\/api\\/v[0-9])(?P<endpoints>.+)(?P<http_version>HTTP\\/[0-9]\\.[0-9])', expand = True)\n",
    "df.head()"
   ]
  },
  {
   "cell_type": "markdown",
   "metadata": {},
   "source": [
    "We can see an anomaly in a few of the request_method strings. Looking at options: - Depending on our goal in this, these could be anomalies that can give us the answer we need, such as, is there a security breach?\n",
    "- This column could simply be an extra independent or grouping variable, where anomalies are not significant and only get in the way of finding the anomalies we are interested in.\n",
    "- The anomalies in this column could possibly be an indicator, when grouped with others, lead to higher likelihood of intruder. However, that may require research within the data. After that research you may decide that anomalies in this field are not important.\n",
    "- In the cases where the data is most useful normalized or standardized, where anomalies only cause distractions, the goal would be to remove or normalize the anomaly.\n",
    "- In the cases where the anomaly is what we would want to detect and look into further, keeping the anomalies, but maybe cleaning up the strings a bit to highlight where the differences occur.\n",
    "\n",
    "In this case, the best action to take is the replace the /HTTP with , HTTP"
   ]
  },
  {
   "cell_type": "code",
   "execution_count": 16,
   "metadata": {},
   "outputs": [
    {
     "name": "stdout",
     "output_type": "stream",
     "text": [
      "/sales                       12403\n",
      "/items                        1065\n",
      "/stores                        229\n",
      "//api/v1/items                  11\n",
      "/items/api/v1/items              7\n",
      "/items/next_page                 5\n",
      "/                                4\n",
      "/itemsitems                      3\n",
      "/sales/                          3\n",
      "/store                           3\n",
      "/sales/                          3\n",
      "items                            2\n",
      "/helloclass!                     1\n",
      "/items&page=0                    1\n",
      "//api/v1/items/next_page         1\n",
      "/I_DIDNT_DO_IT!!!!               1\n",
      "                                 1\n",
      "/items/                          1\n",
      "Name: endpoints, dtype: int64\n"
     ]
    }
   ],
   "source": [
    "print(df.endpoints.value_counts())"
   ]
  },
  {
   "cell_type": "markdown",
   "metadata": {},
   "source": [
    "What is entropy in machine learning?\n",
    "\n",
    "Entropy, as it relates to machine learning, is a measure of the randomness in the information being processed. The higher the entropy, the harder it is to draw any conclusions from that information. Flipping a coin is an example of an action that provides information that is random."
   ]
  },
  {
   "cell_type": "code",
   "execution_count": 17,
   "metadata": {},
   "outputs": [],
   "source": [
    "def compute_entropy(series):\n",
    "    counts = series.value_counts()\n",
    "    if len(counts)==1:\n",
    "        ent = 0\n",
    "    else:\n",
    "        value, counts = np.unique(series, return_counts=True)\n",
    "        ent = entropy(counts, base=None)\n",
    "    return ent"
   ]
  },
  {
   "cell_type": "code",
   "execution_count": 18,
   "metadata": {},
   "outputs": [
    {
     "data": {
      "text/plain": [
       "0"
      ]
     },
     "execution_count": 18,
     "metadata": {},
     "output_type": "execute_result"
    }
   ],
   "source": [
    "compute_entropy(df.api_version)"
   ]
  },
  {
   "cell_type": "code",
   "execution_count": 19,
   "metadata": {},
   "outputs": [
    {
     "data": {
      "text/plain": [
       "0.0103058384931202"
      ]
     },
     "execution_count": 19,
     "metadata": {},
     "output_type": "execute_result"
    }
   ],
   "source": [
    "compute_entropy(df.status)"
   ]
  },
  {
   "cell_type": "code",
   "execution_count": 20,
   "metadata": {},
   "outputs": [
    {
     "data": {
      "text/plain": [
       "0"
      ]
     },
     "execution_count": 20,
     "metadata": {},
     "output_type": "execute_result"
    }
   ],
   "source": [
    "compute_entropy(df.request_call)"
   ]
  },
  {
   "cell_type": "code",
   "execution_count": 21,
   "metadata": {},
   "outputs": [
    {
     "data": {
      "text/plain": [
       "0.5669620287409953"
      ]
     },
     "execution_count": 21,
     "metadata": {},
     "output_type": "execute_result"
    }
   ],
   "source": [
    "compute_entropy(df.ip)"
   ]
  },
  {
   "cell_type": "markdown",
   "metadata": {},
   "source": [
    "#### Size\n",
    "Represent size in MB for ease of conceptual understanding."
   ]
  },
  {
   "cell_type": "code",
   "execution_count": 22,
   "metadata": {},
   "outputs": [],
   "source": [
    "df['size_mb'] = [n/1024/1024 for n in df['size']]"
   ]
  },
  {
   "cell_type": "code",
   "execution_count": 23,
   "metadata": {},
   "outputs": [
    {
     "data": {
      "text/html": [
       "<div>\n",
       "<style scoped>\n",
       "    .dataframe tbody tr th:only-of-type {\n",
       "        vertical-align: middle;\n",
       "    }\n",
       "\n",
       "    .dataframe tbody tr th {\n",
       "        vertical-align: top;\n",
       "    }\n",
       "\n",
       "    .dataframe thead th {\n",
       "        text-align: right;\n",
       "    }\n",
       "</style>\n",
       "<table border=\"1\" class=\"dataframe\">\n",
       "  <thead>\n",
       "    <tr style=\"text-align: right;\">\n",
       "      <th></th>\n",
       "      <th>status</th>\n",
       "      <th>size</th>\n",
       "      <th>size_mb</th>\n",
       "    </tr>\n",
       "  </thead>\n",
       "  <tbody>\n",
       "    <tr>\n",
       "      <th>count</th>\n",
       "      <td>13978.000000</td>\n",
       "      <td>1.397800e+04</td>\n",
       "      <td>13978.000000</td>\n",
       "    </tr>\n",
       "    <tr>\n",
       "      <th>mean</th>\n",
       "      <td>200.356703</td>\n",
       "      <td>4.500019e+05</td>\n",
       "      <td>0.429155</td>\n",
       "    </tr>\n",
       "    <tr>\n",
       "      <th>std</th>\n",
       "      <td>10.182001</td>\n",
       "      <td>1.614915e+05</td>\n",
       "      <td>0.154010</td>\n",
       "    </tr>\n",
       "    <tr>\n",
       "      <th>min</th>\n",
       "      <td>200.000000</td>\n",
       "      <td>0.000000e+00</td>\n",
       "      <td>0.000000</td>\n",
       "    </tr>\n",
       "    <tr>\n",
       "      <th>25%</th>\n",
       "      <td>200.000000</td>\n",
       "      <td>5.006370e+05</td>\n",
       "      <td>0.477445</td>\n",
       "    </tr>\n",
       "    <tr>\n",
       "      <th>50%</th>\n",
       "      <td>200.000000</td>\n",
       "      <td>5.101380e+05</td>\n",
       "      <td>0.486506</td>\n",
       "    </tr>\n",
       "    <tr>\n",
       "      <th>75%</th>\n",
       "      <td>200.000000</td>\n",
       "      <td>5.112910e+05</td>\n",
       "      <td>0.487605</td>\n",
       "    </tr>\n",
       "    <tr>\n",
       "      <th>max</th>\n",
       "      <td>499.000000</td>\n",
       "      <td>2.056327e+06</td>\n",
       "      <td>1.961066</td>\n",
       "    </tr>\n",
       "  </tbody>\n",
       "</table>\n",
       "</div>"
      ],
      "text/plain": [
       "             status          size       size_mb\n",
       "count  13978.000000  1.397800e+04  13978.000000\n",
       "mean     200.356703  4.500019e+05      0.429155\n",
       "std       10.182001  1.614915e+05      0.154010\n",
       "min      200.000000  0.000000e+00      0.000000\n",
       "25%      200.000000  5.006370e+05      0.477445\n",
       "50%      200.000000  5.101380e+05      0.486506\n",
       "75%      200.000000  5.112910e+05      0.487605\n",
       "max      499.000000  2.056327e+06      1.961066"
      ]
     },
     "execution_count": 23,
     "metadata": {},
     "output_type": "execute_result"
    }
   ],
   "source": [
    "df.describe()"
   ]
  },
  {
   "cell_type": "markdown",
   "metadata": {},
   "source": [
    "1. Resample to 30 minute intervals taking max of size.\n",
    "2. Fill in missing datetimestamps (those not present because no data was captured during that time. We want to have continuous time and those time periods filled with 0)."
   ]
  },
  {
   "cell_type": "code",
   "execution_count": 24,
   "metadata": {},
   "outputs": [],
   "source": [
    "my_datetime_fmt = mdates.DateFormatter('%m-%d %H:%T')\n",
    "\n",
    "df_ts_size = df['size_mb'].resample('30T').max()\n",
    "\n",
    "idx = pd.date_range(\n",
    "    df_ts_size.sort_index().index.min(), \n",
    "    df_ts_size.sort_index().index.max(),\n",
    "    freq='30min'\n",
    ")\n",
    "\n",
    "df_ts_size = df_ts_size.reindex(idx, fill_value=0).fillna(value=0)"
   ]
  },
  {
   "cell_type": "markdown",
   "metadata": {},
   "source": [
    "#### Split into train/test:"
   ]
  },
  {
   "cell_type": "code",
   "execution_count": 25,
   "metadata": {},
   "outputs": [
    {
     "data": {
      "image/png": "[encoded data removed]",
      "text/plain": [
       "<Figure size 864x576 with 1 Axes>"
      ]
     },
     "metadata": {
      "needs_background": "light"
     },
     "output_type": "display_data"
    }
   ],
   "source": [
    "start_date_train = df_ts_size.head(1).index[0]\n",
    "end_date_train = '2019-04-17 23:30:00'\n",
    "start_date_test = '2019-04-18 00:00:00'\n",
    "\n",
    "train = df_ts_size[:end_date_train]\n",
    "test = df_ts_size[start_date_test:]\n",
    "\n",
    "plt.figure(figsize=(12, 8))\n",
    "plt.plot(train)\n",
    "plt.plot(test)\n",
    "plt.show()"
   ]
  },
  {
   "cell_type": "markdown",
   "metadata": {},
   "source": [
    "## Finding More Anomalies\n",
    "### SMA - Simple Moving Average:"
   ]
  },
  {
   "cell_type": "code",
   "execution_count": 26,
   "metadata": {},
   "outputs": [
    {
     "data": {
      "text/plain": [
       "2019-04-16 19:30:00+00:00         NaN\n",
       "2019-04-16 20:00:00+00:00         NaN\n",
       "2019-04-16 20:30:00+00:00         NaN\n",
       "2019-04-16 21:00:00+00:00         NaN\n",
       "2019-04-16 21:30:00+00:00         NaN\n",
       "2019-04-16 22:00:00+00:00         NaN\n",
       "2019-04-16 22:30:00+00:00         NaN\n",
       "2019-04-16 23:00:00+00:00         NaN\n",
       "2019-04-16 23:30:00+00:00         NaN\n",
       "2019-04-17 00:00:00+00:00         NaN\n",
       "2019-04-17 00:30:00+00:00         NaN\n",
       "2019-04-17 01:00:00+00:00    0.286391\n",
       "2019-04-17 01:30:00+00:00    0.286391\n",
       "Freq: 30T, Name: size_mb, dtype: float64"
      ]
     },
     "execution_count": 26,
     "metadata": {},
     "output_type": "execute_result"
    }
   ],
   "source": [
    "# Calculating the short-window simple moving average\n",
    "short_rolling = train.rolling(window=12).mean()\n",
    "\n",
    "# Calculating the long-window simple moving average\n",
    "long_rolling = train.rolling(window=24).mean()\n",
    "\n",
    "short_rolling.head(13)"
   ]
  },
  {
   "cell_type": "code",
   "execution_count": 27,
   "metadata": {},
   "outputs": [
    {
     "data": {
      "text/plain": [
       "2019-04-17 05:30:00+00:00    0.324983\n",
       "2019-04-17 06:00:00+00:00    0.364235\n",
       "2019-04-17 06:30:00+00:00    0.363944\n",
       "2019-04-17 07:00:00+00:00    0.363653\n",
       "2019-04-17 07:30:00+00:00    0.322825\n",
       "2019-04-17 08:00:00+00:00    0.281997\n",
       "2019-04-17 08:30:00+00:00    0.242107\n",
       "2019-04-17 09:00:00+00:00    0.201279\n",
       "2019-04-17 09:30:00+00:00    0.160451\n",
       "2019-04-17 10:00:00+00:00    0.160266\n",
       "Freq: 30T, Name: size_mb, dtype: float64"
      ]
     },
     "execution_count": 27,
     "metadata": {},
     "output_type": "execute_result"
    }
   ],
   "source": [
    "short_rolling[20:30]"
   ]
  },
  {
   "cell_type": "code",
   "execution_count": 28,
   "metadata": {
    "scrolled": true
   },
   "outputs": [
    {
     "data": {
      "text/plain": [
       "2019-04-17 05:30:00+00:00         NaN\n",
       "2019-04-17 06:00:00+00:00         NaN\n",
       "2019-04-17 06:30:00+00:00         NaN\n",
       "2019-04-17 07:00:00+00:00    0.325022\n",
       "2019-04-17 07:30:00+00:00    0.304608\n",
       "2019-04-17 08:00:00+00:00    0.284194\n",
       "2019-04-17 08:30:00+00:00    0.263780\n",
       "2019-04-17 09:00:00+00:00    0.243366\n",
       "2019-04-17 09:30:00+00:00    0.222952\n",
       "2019-04-17 10:00:00+00:00    0.202591\n",
       "Freq: 30T, Name: size_mb, dtype: float64"
      ]
     },
     "execution_count": 28,
     "metadata": {},
     "output_type": "execute_result"
    }
   ],
   "source": [
    "long_rolling[20:30]"
   ]
  },
  {
   "cell_type": "markdown",
   "metadata": {},
   "source": [
    "### Plot the 2 window sizes for the SMA:"
   ]
  },
  {
   "cell_type": "code",
   "execution_count": 40,
   "metadata": {},
   "outputs": [
    {
     "data": {
      "image/png": "[encoded data removed]",
      "text/plain": [
       "<Figure size 864x288 with 1 Axes>"
      ]
     },
     "metadata": {
      "needs_background": "light"
     },
     "output_type": "display_data"
    }
   ],
   "source": [
    "fig, ax = plt.subplots(figsize=(12,4))\n",
    "\n",
    "ax.plot(train.index, \n",
    "        train,\n",
    "        label='Size (MB)')\n",
    "\n",
    "ax.plot(short_rolling.index, \n",
    "        short_rolling, \n",
    "        label = '6-Hour SMA')\n",
    "ax.plot(long_rolling.index, \n",
    "        long_rolling, \n",
    "        label = '12-Hour SMA')\n",
    "\n",
    "ax.legend(loc='best')\n",
    "ax.set_ylabel('Size (MB)')\n",
    "plt.xticks(rotation=90)\n",
    "ax.xaxis.set_major_formatter(my_datetime_fmt)"
   ]
  },
  {
   "cell_type": "markdown",
   "metadata": {},
   "source": [
    "### Using Bollinger Bands & %b to detect anomalies\n",
    "We need: - Exponential Moving Average - Window span - Upper band - Lower band\n",
    "\n",
    "#### Exponential Moving Average\n",
    "SMA timeseries are much less noisy than the original price timeseries. However, this comes at a cost; SMA timeseries lag the original price timeseries, which means that changes in the trend are only seen with a delay (lag) of L time units (30 minute periods in this case).\n",
    "\n",
    "Exponential Moving Average (EMA) helps reduce the lag induced by the use of the SMA. It does this by putting more weight on more recent observations, whereas the SMA weights all observations equally by 1M.\n",
    "\n",
    "- M = Number of time periods, span of the window\n",
    "- $t_{0}$ = Latest value\n",
    "- t −1 = Previous value\n",
    "- $EMA_{t−1}$ = Exponential moving average of previous day.\n",
    "- The multiplier: α = $\\frac{2}{M+1}$\n",
    "- $EMA_{t}$ = α ∗ ($t_{0}$ − $EMA_{t−1}$) + $EMA_{t−1}$\n",
    "\n",
    "Example: - EMA = (currentday - $EMA_{previousday}$) * multiplier + $EMA_{previousday}$ - Initial SMA: 10-period sum / 10 - Multiplier: (2 / (Time periods + 1) ) = (2 / (10 + 1) ) = 0.1818 (18.18%)"
   ]
  },
  {
   "cell_type": "code",
   "execution_count": 41,
   "metadata": {},
   "outputs": [
    {
     "data": {
      "text/plain": [
       "2019-04-17 21:30:00+00:00    0.0\n",
       "2019-04-17 22:00:00+00:00    0.0\n",
       "2019-04-17 22:30:00+00:00    0.0\n",
       "2019-04-17 23:00:00+00:00    0.0\n",
       "2019-04-17 23:30:00+00:00    0.0\n",
       "Freq: 30T, Name: size_mb, dtype: float64"
      ]
     },
     "execution_count": 41,
     "metadata": {},
     "output_type": "execute_result"
    }
   ],
   "source": [
    "train.tail()"
   ]
  },
  {
   "cell_type": "code",
   "execution_count": 42,
   "metadata": {},
   "outputs": [
    {
     "data": {
      "text/plain": [
       "2019-04-17 21:30:00+00:00    0.00008\n",
       "2019-04-17 22:00:00+00:00    0.00008\n",
       "2019-04-17 22:30:00+00:00    0.00008\n",
       "2019-04-17 23:00:00+00:00    0.00008\n",
       "2019-04-17 23:30:00+00:00    0.00008\n",
       "Freq: 30T, Name: size_mb, dtype: float64"
      ]
     },
     "execution_count": 42,
     "metadata": {},
     "output_type": "execute_result"
    }
   ],
   "source": [
    "short_rolling.tail()"
   ]
  },
  {
   "cell_type": "code",
   "execution_count": 43,
   "metadata": {},
   "outputs": [
    {
     "data": {
      "text/plain": [
       "2019-04-17 21:30:00+00:00    0.020507\n",
       "2019-04-17 22:00:00+00:00    0.020454\n",
       "2019-04-17 22:30:00+00:00    0.020454\n",
       "2019-04-17 23:00:00+00:00    0.020454\n",
       "2019-04-17 23:30:00+00:00    0.020454\n",
       "Freq: 30T, Name: size_mb, dtype: float64"
      ]
     },
     "execution_count": 43,
     "metadata": {},
     "output_type": "execute_result"
    }
   ],
   "source": [
    "long_rolling.tail()"
   ]
  },
  {
   "cell_type": "markdown",
   "metadata": {},
   "source": [
    "### Computer the EMA:"
   ]
  },
  {
   "cell_type": "code",
   "execution_count": 44,
   "metadata": {},
   "outputs": [
    {
     "data": {
      "text/plain": [
       "2019-04-17 21:30:00+00:00    0.006025\n",
       "2019-04-17 22:00:00+00:00    0.005098\n",
       "2019-04-17 22:30:00+00:00    0.004314\n",
       "2019-04-17 23:00:00+00:00    0.003650\n",
       "2019-04-17 23:30:00+00:00    0.003088\n",
       "Freq: 30T, Name: size_mb, dtype: float64"
      ]
     },
     "execution_count": 44,
     "metadata": {},
     "output_type": "execute_result"
    }
   ],
   "source": [
    "# Using Pandas to calculate a 2 hour span EMA. \n",
    "# adjust=False specifies that we are interested in the \n",
    "# recursive calculation mode.\n",
    "ema_short = train.ewm(span=12, adjust=False).mean()\n",
    "ema_short.tail()"
   ]
  },
  {
   "cell_type": "code",
   "execution_count": 45,
   "metadata": {},
   "outputs": [
    {
     "data": {
      "text/plain": [
       "2019-04-17 21:30:00+00:00    0.037941\n",
       "2019-04-17 22:00:00+00:00    0.034905\n",
       "2019-04-17 22:30:00+00:00    0.032113\n",
       "2019-04-17 23:00:00+00:00    0.029544\n",
       "2019-04-17 23:30:00+00:00    0.027180\n",
       "Freq: 30T, Name: size_mb, dtype: float64"
      ]
     },
     "execution_count": 45,
     "metadata": {},
     "output_type": "execute_result"
    }
   ],
   "source": [
    "span = 24\n",
    "ema_long = train.ewm(span=span, adjust=False).mean()\n",
    "ema_long.tail()"
   ]
  },
  {
   "cell_type": "code",
   "execution_count": 46,
   "metadata": {},
   "outputs": [],
   "source": [
    "midband = ema_long[-1]\n",
    "ub = midband + ema_long[-24:-1].std()*3\n",
    "lb = midband - ema_long[-24:-1].std()*3"
   ]
  },
  {
   "cell_type": "markdown",
   "metadata": {},
   "source": [
    "### Compare SMA with EMA:"
   ]
  },
  {
   "cell_type": "code",
   "execution_count": 47,
   "metadata": {},
   "outputs": [
    {
     "data": {
      "image/png": "[encoded data removed]",
      "text/plain": [
       "<Figure size 864x288 with 1 Axes>"
      ]
     },
     "metadata": {
      "needs_background": "light"
     },
     "output_type": "display_data"
    }
   ],
   "source": [
    "fig, ax = plt.subplots(figsize=(12,4))\n",
    "\n",
    "ax.plot(train.index, \n",
    "        train,\n",
    "        label='Size (MB)')\n",
    "\n",
    "ax.plot(short_rolling.index, \n",
    "        short_rolling, \n",
    "        label = '6-Hour SMA')\n",
    "ax.plot(long_rolling.index, \n",
    "        ema_short, \n",
    "        label = 'Span 6-Hour EMA')\n",
    "ax.plot(long_rolling.index, \n",
    "        long_rolling, \n",
    "        label = '12-Hour SMA')\n",
    "ax.plot(long_rolling.index, \n",
    "        ema_long, \n",
    "        label = 'Span 12-Hour EMA')\n",
    "\n",
    "ax.legend(loc='best')\n",
    "ax.set_ylabel('Size (MB)')\n",
    "\n",
    "yhat = pd.DataFrame(dict(actual=test))\n"
   ]
  },
  {
   "cell_type": "markdown",
   "metadata": {},
   "source": [
    "## Forecast using the EMA"
   ]
  },
  {
   "cell_type": "code",
   "execution_count": 48,
   "metadata": {},
   "outputs": [
    {
     "data": {
      "text/html": [
       "<div>\n",
       "<style scoped>\n",
       "    .dataframe tbody tr th:only-of-type {\n",
       "        vertical-align: middle;\n",
       "    }\n",
       "\n",
       "    .dataframe tbody tr th {\n",
       "        vertical-align: top;\n",
       "    }\n",
       "\n",
       "    .dataframe thead th {\n",
       "        text-align: right;\n",
       "    }\n",
       "</style>\n",
       "<table border=\"1\" class=\"dataframe\">\n",
       "  <thead>\n",
       "    <tr style=\"text-align: right;\">\n",
       "      <th></th>\n",
       "      <th>actual</th>\n",
       "      <th>moving_avg_forecast</th>\n",
       "    </tr>\n",
       "  </thead>\n",
       "  <tbody>\n",
       "    <tr>\n",
       "      <th>2019-04-18 00:00:00+00:00</th>\n",
       "      <td>0.000000</td>\n",
       "      <td>0.02718</td>\n",
       "    </tr>\n",
       "    <tr>\n",
       "      <th>2019-04-18 00:30:00+00:00</th>\n",
       "      <td>0.000000</td>\n",
       "      <td>0.02718</td>\n",
       "    </tr>\n",
       "    <tr>\n",
       "      <th>2019-04-18 01:00:00+00:00</th>\n",
       "      <td>0.000000</td>\n",
       "      <td>0.02718</td>\n",
       "    </tr>\n",
       "    <tr>\n",
       "      <th>2019-04-18 01:30:00+00:00</th>\n",
       "      <td>0.000000</td>\n",
       "      <td>0.02718</td>\n",
       "    </tr>\n",
       "    <tr>\n",
       "      <th>2019-04-18 02:00:00+00:00</th>\n",
       "      <td>0.000000</td>\n",
       "      <td>0.02718</td>\n",
       "    </tr>\n",
       "    <tr>\n",
       "      <th>2019-04-18 02:30:00+00:00</th>\n",
       "      <td>0.000000</td>\n",
       "      <td>0.02718</td>\n",
       "    </tr>\n",
       "    <tr>\n",
       "      <th>2019-04-18 03:00:00+00:00</th>\n",
       "      <td>0.000000</td>\n",
       "      <td>0.02718</td>\n",
       "    </tr>\n",
       "    <tr>\n",
       "      <th>2019-04-18 03:30:00+00:00</th>\n",
       "      <td>0.000000</td>\n",
       "      <td>0.02718</td>\n",
       "    </tr>\n",
       "    <tr>\n",
       "      <th>2019-04-18 04:00:00+00:00</th>\n",
       "      <td>0.000000</td>\n",
       "      <td>0.02718</td>\n",
       "    </tr>\n",
       "    <tr>\n",
       "      <th>2019-04-18 04:30:00+00:00</th>\n",
       "      <td>0.000000</td>\n",
       "      <td>0.02718</td>\n",
       "    </tr>\n",
       "    <tr>\n",
       "      <th>2019-04-18 05:00:00+00:00</th>\n",
       "      <td>0.000000</td>\n",
       "      <td>0.02718</td>\n",
       "    </tr>\n",
       "    <tr>\n",
       "      <th>2019-04-18 05:30:00+00:00</th>\n",
       "      <td>0.000000</td>\n",
       "      <td>0.02718</td>\n",
       "    </tr>\n",
       "    <tr>\n",
       "      <th>2019-04-18 06:00:00+00:00</th>\n",
       "      <td>0.000000</td>\n",
       "      <td>0.02718</td>\n",
       "    </tr>\n",
       "    <tr>\n",
       "      <th>2019-04-18 06:30:00+00:00</th>\n",
       "      <td>0.000000</td>\n",
       "      <td>0.02718</td>\n",
       "    </tr>\n",
       "    <tr>\n",
       "      <th>2019-04-18 07:00:00+00:00</th>\n",
       "      <td>0.000000</td>\n",
       "      <td>0.02718</td>\n",
       "    </tr>\n",
       "    <tr>\n",
       "      <th>2019-04-18 07:30:00+00:00</th>\n",
       "      <td>0.000000</td>\n",
       "      <td>0.02718</td>\n",
       "    </tr>\n",
       "    <tr>\n",
       "      <th>2019-04-18 08:00:00+00:00</th>\n",
       "      <td>0.000000</td>\n",
       "      <td>0.02718</td>\n",
       "    </tr>\n",
       "    <tr>\n",
       "      <th>2019-04-18 08:30:00+00:00</th>\n",
       "      <td>0.000000</td>\n",
       "      <td>0.02718</td>\n",
       "    </tr>\n",
       "    <tr>\n",
       "      <th>2019-04-18 09:00:00+00:00</th>\n",
       "      <td>0.000000</td>\n",
       "      <td>0.02718</td>\n",
       "    </tr>\n",
       "    <tr>\n",
       "      <th>2019-04-18 09:30:00+00:00</th>\n",
       "      <td>0.000000</td>\n",
       "      <td>0.02718</td>\n",
       "    </tr>\n",
       "    <tr>\n",
       "      <th>2019-04-18 10:00:00+00:00</th>\n",
       "      <td>0.000000</td>\n",
       "      <td>0.02718</td>\n",
       "    </tr>\n",
       "    <tr>\n",
       "      <th>2019-04-18 10:30:00+00:00</th>\n",
       "      <td>0.000000</td>\n",
       "      <td>0.02718</td>\n",
       "    </tr>\n",
       "    <tr>\n",
       "      <th>2019-04-18 11:00:00+00:00</th>\n",
       "      <td>0.000000</td>\n",
       "      <td>0.02718</td>\n",
       "    </tr>\n",
       "    <tr>\n",
       "      <th>2019-04-18 11:30:00+00:00</th>\n",
       "      <td>0.000000</td>\n",
       "      <td>0.02718</td>\n",
       "    </tr>\n",
       "    <tr>\n",
       "      <th>2019-04-18 12:00:00+00:00</th>\n",
       "      <td>0.000000</td>\n",
       "      <td>0.02718</td>\n",
       "    </tr>\n",
       "    <tr>\n",
       "      <th>2019-04-18 12:30:00+00:00</th>\n",
       "      <td>0.000000</td>\n",
       "      <td>0.02718</td>\n",
       "    </tr>\n",
       "    <tr>\n",
       "      <th>2019-04-18 13:00:00+00:00</th>\n",
       "      <td>0.000000</td>\n",
       "      <td>0.02718</td>\n",
       "    </tr>\n",
       "    <tr>\n",
       "      <th>2019-04-18 13:30:00+00:00</th>\n",
       "      <td>0.000000</td>\n",
       "      <td>0.02718</td>\n",
       "    </tr>\n",
       "    <tr>\n",
       "      <th>2019-04-18 14:00:00+00:00</th>\n",
       "      <td>0.000000</td>\n",
       "      <td>0.02718</td>\n",
       "    </tr>\n",
       "    <tr>\n",
       "      <th>2019-04-18 14:30:00+00:00</th>\n",
       "      <td>0.000000</td>\n",
       "      <td>0.02718</td>\n",
       "    </tr>\n",
       "    <tr>\n",
       "      <th>...</th>\n",
       "      <td>...</td>\n",
       "      <td>...</td>\n",
       "    </tr>\n",
       "    <tr>\n",
       "      <th>2019-04-20 19:30:00+00:00</th>\n",
       "      <td>0.000000</td>\n",
       "      <td>0.02718</td>\n",
       "    </tr>\n",
       "    <tr>\n",
       "      <th>2019-04-20 20:00:00+00:00</th>\n",
       "      <td>0.000000</td>\n",
       "      <td>0.02718</td>\n",
       "    </tr>\n",
       "    <tr>\n",
       "      <th>2019-04-20 20:30:00+00:00</th>\n",
       "      <td>0.000000</td>\n",
       "      <td>0.02718</td>\n",
       "    </tr>\n",
       "    <tr>\n",
       "      <th>2019-04-20 21:00:00+00:00</th>\n",
       "      <td>0.000000</td>\n",
       "      <td>0.02718</td>\n",
       "    </tr>\n",
       "    <tr>\n",
       "      <th>2019-04-20 21:30:00+00:00</th>\n",
       "      <td>0.000000</td>\n",
       "      <td>0.02718</td>\n",
       "    </tr>\n",
       "    <tr>\n",
       "      <th>2019-04-20 22:00:00+00:00</th>\n",
       "      <td>0.000000</td>\n",
       "      <td>0.02718</td>\n",
       "    </tr>\n",
       "    <tr>\n",
       "      <th>2019-04-20 22:30:00+00:00</th>\n",
       "      <td>0.000000</td>\n",
       "      <td>0.02718</td>\n",
       "    </tr>\n",
       "    <tr>\n",
       "      <th>2019-04-20 23:00:00+00:00</th>\n",
       "      <td>0.000000</td>\n",
       "      <td>0.02718</td>\n",
       "    </tr>\n",
       "    <tr>\n",
       "      <th>2019-04-20 23:30:00+00:00</th>\n",
       "      <td>0.000000</td>\n",
       "      <td>0.02718</td>\n",
       "    </tr>\n",
       "    <tr>\n",
       "      <th>2019-04-21 00:00:00+00:00</th>\n",
       "      <td>0.000000</td>\n",
       "      <td>0.02718</td>\n",
       "    </tr>\n",
       "    <tr>\n",
       "      <th>2019-04-21 00:30:00+00:00</th>\n",
       "      <td>0.000000</td>\n",
       "      <td>0.02718</td>\n",
       "    </tr>\n",
       "    <tr>\n",
       "      <th>2019-04-21 01:00:00+00:00</th>\n",
       "      <td>0.000000</td>\n",
       "      <td>0.02718</td>\n",
       "    </tr>\n",
       "    <tr>\n",
       "      <th>2019-04-21 01:30:00+00:00</th>\n",
       "      <td>0.000000</td>\n",
       "      <td>0.02718</td>\n",
       "    </tr>\n",
       "    <tr>\n",
       "      <th>2019-04-21 02:00:00+00:00</th>\n",
       "      <td>0.000000</td>\n",
       "      <td>0.02718</td>\n",
       "    </tr>\n",
       "    <tr>\n",
       "      <th>2019-04-21 02:30:00+00:00</th>\n",
       "      <td>0.000000</td>\n",
       "      <td>0.02718</td>\n",
       "    </tr>\n",
       "    <tr>\n",
       "      <th>2019-04-21 03:00:00+00:00</th>\n",
       "      <td>0.000000</td>\n",
       "      <td>0.02718</td>\n",
       "    </tr>\n",
       "    <tr>\n",
       "      <th>2019-04-21 03:30:00+00:00</th>\n",
       "      <td>0.000000</td>\n",
       "      <td>0.02718</td>\n",
       "    </tr>\n",
       "    <tr>\n",
       "      <th>2019-04-21 04:00:00+00:00</th>\n",
       "      <td>0.000000</td>\n",
       "      <td>0.02718</td>\n",
       "    </tr>\n",
       "    <tr>\n",
       "      <th>2019-04-21 04:30:00+00:00</th>\n",
       "      <td>0.000000</td>\n",
       "      <td>0.02718</td>\n",
       "    </tr>\n",
       "    <tr>\n",
       "      <th>2019-04-21 05:00:00+00:00</th>\n",
       "      <td>0.000000</td>\n",
       "      <td>0.02718</td>\n",
       "    </tr>\n",
       "    <tr>\n",
       "      <th>2019-04-21 05:30:00+00:00</th>\n",
       "      <td>0.000000</td>\n",
       "      <td>0.02718</td>\n",
       "    </tr>\n",
       "    <tr>\n",
       "      <th>2019-04-21 06:00:00+00:00</th>\n",
       "      <td>0.000000</td>\n",
       "      <td>0.02718</td>\n",
       "    </tr>\n",
       "    <tr>\n",
       "      <th>2019-04-21 06:30:00+00:00</th>\n",
       "      <td>0.000000</td>\n",
       "      <td>0.02718</td>\n",
       "    </tr>\n",
       "    <tr>\n",
       "      <th>2019-04-21 07:00:00+00:00</th>\n",
       "      <td>0.000000</td>\n",
       "      <td>0.02718</td>\n",
       "    </tr>\n",
       "    <tr>\n",
       "      <th>2019-04-21 07:30:00+00:00</th>\n",
       "      <td>0.000000</td>\n",
       "      <td>0.02718</td>\n",
       "    </tr>\n",
       "    <tr>\n",
       "      <th>2019-04-21 08:00:00+00:00</th>\n",
       "      <td>0.000000</td>\n",
       "      <td>0.02718</td>\n",
       "    </tr>\n",
       "    <tr>\n",
       "      <th>2019-04-21 08:30:00+00:00</th>\n",
       "      <td>0.000000</td>\n",
       "      <td>0.02718</td>\n",
       "    </tr>\n",
       "    <tr>\n",
       "      <th>2019-04-21 09:00:00+00:00</th>\n",
       "      <td>0.000000</td>\n",
       "      <td>0.02718</td>\n",
       "    </tr>\n",
       "    <tr>\n",
       "      <th>2019-04-21 09:30:00+00:00</th>\n",
       "      <td>0.000000</td>\n",
       "      <td>0.02718</td>\n",
       "    </tr>\n",
       "    <tr>\n",
       "      <th>2019-04-21 10:00:00+00:00</th>\n",
       "      <td>1.099591</td>\n",
       "      <td>0.02718</td>\n",
       "    </tr>\n",
       "  </tbody>\n",
       "</table>\n",
       "<p>165 rows × 2 columns</p>\n",
       "</div>"
      ],
      "text/plain": [
       "                             actual  moving_avg_forecast\n",
       "2019-04-18 00:00:00+00:00  0.000000              0.02718\n",
       "2019-04-18 00:30:00+00:00  0.000000              0.02718\n",
       "2019-04-18 01:00:00+00:00  0.000000              0.02718\n",
       "2019-04-18 01:30:00+00:00  0.000000              0.02718\n",
       "2019-04-18 02:00:00+00:00  0.000000              0.02718\n",
       "2019-04-18 02:30:00+00:00  0.000000              0.02718\n",
       "2019-04-18 03:00:00+00:00  0.000000              0.02718\n",
       "2019-04-18 03:30:00+00:00  0.000000              0.02718\n",
       "2019-04-18 04:00:00+00:00  0.000000              0.02718\n",
       "2019-04-18 04:30:00+00:00  0.000000              0.02718\n",
       "2019-04-18 05:00:00+00:00  0.000000              0.02718\n",
       "2019-04-18 05:30:00+00:00  0.000000              0.02718\n",
       "2019-04-18 06:00:00+00:00  0.000000              0.02718\n",
       "2019-04-18 06:30:00+00:00  0.000000              0.02718\n",
       "2019-04-18 07:00:00+00:00  0.000000              0.02718\n",
       "2019-04-18 07:30:00+00:00  0.000000              0.02718\n",
       "2019-04-18 08:00:00+00:00  0.000000              0.02718\n",
       "2019-04-18 08:30:00+00:00  0.000000              0.02718\n",
       "2019-04-18 09:00:00+00:00  0.000000              0.02718\n",
       "2019-04-18 09:30:00+00:00  0.000000              0.02718\n",
       "2019-04-18 10:00:00+00:00  0.000000              0.02718\n",
       "2019-04-18 10:30:00+00:00  0.000000              0.02718\n",
       "2019-04-18 11:00:00+00:00  0.000000              0.02718\n",
       "2019-04-18 11:30:00+00:00  0.000000              0.02718\n",
       "2019-04-18 12:00:00+00:00  0.000000              0.02718\n",
       "2019-04-18 12:30:00+00:00  0.000000              0.02718\n",
       "2019-04-18 13:00:00+00:00  0.000000              0.02718\n",
       "2019-04-18 13:30:00+00:00  0.000000              0.02718\n",
       "2019-04-18 14:00:00+00:00  0.000000              0.02718\n",
       "2019-04-18 14:30:00+00:00  0.000000              0.02718\n",
       "...                             ...                  ...\n",
       "2019-04-20 19:30:00+00:00  0.000000              0.02718\n",
       "2019-04-20 20:00:00+00:00  0.000000              0.02718\n",
       "2019-04-20 20:30:00+00:00  0.000000              0.02718\n",
       "2019-04-20 21:00:00+00:00  0.000000              0.02718\n",
       "2019-04-20 21:30:00+00:00  0.000000              0.02718\n",
       "2019-04-20 22:00:00+00:00  0.000000              0.02718\n",
       "2019-04-20 22:30:00+00:00  0.000000              0.02718\n",
       "2019-04-20 23:00:00+00:00  0.000000              0.02718\n",
       "2019-04-20 23:30:00+00:00  0.000000              0.02718\n",
       "2019-04-21 00:00:00+00:00  0.000000              0.02718\n",
       "2019-04-21 00:30:00+00:00  0.000000              0.02718\n",
       "2019-04-21 01:00:00+00:00  0.000000              0.02718\n",
       "2019-04-21 01:30:00+00:00  0.000000              0.02718\n",
       "2019-04-21 02:00:00+00:00  0.000000              0.02718\n",
       "2019-04-21 02:30:00+00:00  0.000000              0.02718\n",
       "2019-04-21 03:00:00+00:00  0.000000              0.02718\n",
       "2019-04-21 03:30:00+00:00  0.000000              0.02718\n",
       "2019-04-21 04:00:00+00:00  0.000000              0.02718\n",
       "2019-04-21 04:30:00+00:00  0.000000              0.02718\n",
       "2019-04-21 05:00:00+00:00  0.000000              0.02718\n",
       "2019-04-21 05:30:00+00:00  0.000000              0.02718\n",
       "2019-04-21 06:00:00+00:00  0.000000              0.02718\n",
       "2019-04-21 06:30:00+00:00  0.000000              0.02718\n",
       "2019-04-21 07:00:00+00:00  0.000000              0.02718\n",
       "2019-04-21 07:30:00+00:00  0.000000              0.02718\n",
       "2019-04-21 08:00:00+00:00  0.000000              0.02718\n",
       "2019-04-21 08:30:00+00:00  0.000000              0.02718\n",
       "2019-04-21 09:00:00+00:00  0.000000              0.02718\n",
       "2019-04-21 09:30:00+00:00  0.000000              0.02718\n",
       "2019-04-21 10:00:00+00:00  1.099591              0.02718\n",
       "\n",
       "[165 rows x 2 columns]"
      ]
     },
     "execution_count": 48,
     "metadata": {},
     "output_type": "execute_result"
    }
   ],
   "source": [
    "span = 24\n",
    "ema_long = train.ewm(span=span, adjust=False).mean()\n",
    "midband = ema_long[-1]\n",
    "ub = midband + ema_long[-24:-1].std()*3\n",
    "lb = midband - ema_long[-24:-1].std()*3\n",
    "\n",
    "yhat['moving_avg_forecast'] = midband\n",
    "\n",
    "yhat"
   ]
  },
  {
   "cell_type": "markdown",
   "metadata": {},
   "source": [
    "### Compute the '%b' for each record:"
   ]
  },
  {
   "cell_type": "code",
   "execution_count": 49,
   "metadata": {},
   "outputs": [
    {
     "data": {
      "text/html": [
       "<div>\n",
       "<style scoped>\n",
       "    .dataframe tbody tr th:only-of-type {\n",
       "        vertical-align: middle;\n",
       "    }\n",
       "\n",
       "    .dataframe tbody tr th {\n",
       "        vertical-align: top;\n",
       "    }\n",
       "\n",
       "    .dataframe thead th {\n",
       "        text-align: right;\n",
       "    }\n",
       "</style>\n",
       "<table border=\"1\" class=\"dataframe\">\n",
       "  <thead>\n",
       "    <tr style=\"text-align: right;\">\n",
       "      <th></th>\n",
       "      <th>actual</th>\n",
       "      <th>moving_avg_forecast</th>\n",
       "      <th>error</th>\n",
       "    </tr>\n",
       "  </thead>\n",
       "  <tbody>\n",
       "    <tr>\n",
       "      <th>2019-04-18 00:00:00+00:00</th>\n",
       "      <td>0.0</td>\n",
       "      <td>0.02718</td>\n",
       "      <td>0.02718</td>\n",
       "    </tr>\n",
       "    <tr>\n",
       "      <th>2019-04-18 00:30:00+00:00</th>\n",
       "      <td>0.0</td>\n",
       "      <td>0.02718</td>\n",
       "      <td>0.02718</td>\n",
       "    </tr>\n",
       "    <tr>\n",
       "      <th>2019-04-18 01:00:00+00:00</th>\n",
       "      <td>0.0</td>\n",
       "      <td>0.02718</td>\n",
       "      <td>0.02718</td>\n",
       "    </tr>\n",
       "    <tr>\n",
       "      <th>2019-04-18 01:30:00+00:00</th>\n",
       "      <td>0.0</td>\n",
       "      <td>0.02718</td>\n",
       "      <td>0.02718</td>\n",
       "    </tr>\n",
       "    <tr>\n",
       "      <th>2019-04-18 02:00:00+00:00</th>\n",
       "      <td>0.0</td>\n",
       "      <td>0.02718</td>\n",
       "      <td>0.02718</td>\n",
       "    </tr>\n",
       "  </tbody>\n",
       "</table>\n",
       "</div>"
      ],
      "text/plain": [
       "                           actual  moving_avg_forecast    error\n",
       "2019-04-18 00:00:00+00:00     0.0              0.02718  0.02718\n",
       "2019-04-18 00:30:00+00:00     0.0              0.02718  0.02718\n",
       "2019-04-18 01:00:00+00:00     0.0              0.02718  0.02718\n",
       "2019-04-18 01:30:00+00:00     0.0              0.02718  0.02718\n",
       "2019-04-18 02:00:00+00:00     0.0              0.02718  0.02718"
      ]
     },
     "execution_count": 49,
     "metadata": {},
     "output_type": "execute_result"
    }
   ],
   "source": [
    "# compute the absolute error:\n",
    "yhat['error'] = abs(yhat.actual - yhat.moving_avg_forecast)\n",
    "yhat.head()"
   ]
  },
  {
   "cell_type": "code",
   "execution_count": 50,
   "metadata": {},
   "outputs": [],
   "source": [
    "# compute the mean of the absolute error:\n",
    "# yhat.error.median()\n",
    "\n",
    "# compute upper band and lower band using IQR with weight of 3\n",
    "\n",
    "yhat['pct_b'] = (yhat.actual-lb)/(ub-lb)"
   ]
  },
  {
   "cell_type": "markdown",
   "metadata": {},
   "source": [
    "### Extract the anomalies:"
   ]
  },
  {
   "cell_type": "code",
   "execution_count": 51,
   "metadata": {},
   "outputs": [
    {
     "data": {
      "text/html": [
       "<div>\n",
       "<style scoped>\n",
       "    .dataframe tbody tr th:only-of-type {\n",
       "        vertical-align: middle;\n",
       "    }\n",
       "\n",
       "    .dataframe tbody tr th {\n",
       "        vertical-align: top;\n",
       "    }\n",
       "\n",
       "    .dataframe thead th {\n",
       "        text-align: right;\n",
       "    }\n",
       "</style>\n",
       "<table border=\"1\" class=\"dataframe\">\n",
       "  <thead>\n",
       "    <tr style=\"text-align: right;\">\n",
       "      <th></th>\n",
       "      <th>actual</th>\n",
       "      <th>moving_avg_forecast</th>\n",
       "      <th>error</th>\n",
       "      <th>pct_b</th>\n",
       "    </tr>\n",
       "  </thead>\n",
       "  <tbody>\n",
       "    <tr>\n",
       "      <th>2019-04-19 19:30:00+00:00</th>\n",
       "      <td>1.961066</td>\n",
       "      <td>0.02718</td>\n",
       "      <td>1.933886</td>\n",
       "      <td>7.884371</td>\n",
       "    </tr>\n",
       "    <tr>\n",
       "      <th>2019-04-21 10:00:00+00:00</th>\n",
       "      <td>1.099591</td>\n",
       "      <td>0.02718</td>\n",
       "      <td>1.072411</td>\n",
       "      <td>4.594905</td>\n",
       "    </tr>\n",
       "  </tbody>\n",
       "</table>\n",
       "</div>"
      ],
      "text/plain": [
       "                             actual  moving_avg_forecast     error     pct_b\n",
       "2019-04-19 19:30:00+00:00  1.961066              0.02718  1.933886  7.884371\n",
       "2019-04-21 10:00:00+00:00  1.099591              0.02718  1.072411  4.594905"
      ]
     },
     "execution_count": 51,
     "metadata": {},
     "output_type": "execute_result"
    }
   ],
   "source": [
    "yhat[yhat.pct_b > 1]"
   ]
  },
  {
   "cell_type": "markdown",
   "metadata": {},
   "source": [
    "### Plot:"
   ]
  },
  {
   "cell_type": "code",
   "execution_count": 52,
   "metadata": {},
   "outputs": [
    {
     "data": {
      "image/png": "[encoded data removed]",
      "text/plain": [
       "<Figure size 1152x576 with 1 Axes>"
      ]
     },
     "metadata": {
      "needs_background": "light"
     },
     "output_type": "display_data"
    },
    {
     "data": {
      "text/plain": [
       "[<matplotlib.lines.Line2D at 0x1a1f570d30>]"
      ]
     },
     "execution_count": 52,
     "metadata": {},
     "output_type": "execute_result"
    },
    {
     "data": {
      "image/png": "[encoded data removed]",
      "text/plain": [
       "<Figure size 864x288 with 1 Axes>"
      ]
     },
     "metadata": {
      "needs_background": "light"
     },
     "output_type": "display_data"
    }
   ],
   "source": [
    "plot_and_eval(yhat.moving_avg_forecast, actual=test)\n",
    "plt.figure(figsize=(12,4))\n",
    "plt.plot(yhat.pct_b)"
   ]
  },
  {
   "cell_type": "code",
   "execution_count": null,
   "metadata": {},
   "outputs": [],
   "source": []
  }
 ],
 "metadata": {
  "kernelspec": {
   "display_name": "Python 3",
   "language": "python",
   "name": "python3"
  },
  "language_info": {
   "codemirror_mode": {
    "name": "ipython",
    "version": 3
   },
   "file_extension": ".py",
   "mimetype": "text/x-python",
   "name": "python",
   "nbconvert_exporter": "python",
   "pygments_lexer": "ipython3",
   "version": "3.7.3"
  }
 },
 "nbformat": 4,
 "nbformat_minor": 2
}
